{
 "cells": [
  {
   "cell_type": "markdown",
   "id": "c3c919ad",
   "metadata": {},
   "source": [
    "分类的目标是将输入变量$x$分到$K$个离散的类别$C_k$中的某一类，输入空间被划分为不同的决策区域，他们的边界被称为决策边界或决策面。所谓分类线性模型是指决策面是输入向量$x$的线性函数。如果数据集可以被线性决策面精确地分类，那我们说这个数据集是线性可分的，在二分类的情况下，最方便的表达式是二元表示方法，目标变量$t \\in \\{0, 1\\}$，对于$K > 2$类的问题，我们方便的是使用“1-of-K”编码规则。例如我们有5个类别，那么来自第2个类别的模式所给出的目标向量为$t = (0, 1, 0, 0, 0)^T$。在线性分类模型中，我们使用非线性函数$f(\\cdot )$对$w$的线性函数进行变换，即$$y(x)=f(w^Tx+w_0)$$"
   ]
  }
 ],
 "metadata": {
  "kernelspec": {
   "display_name": "xueqianbanenv",
   "language": "python",
   "name": "python3"
  },
  "language_info": {
   "name": "python",
   "version": "3.13.2"
  }
 },
 "nbformat": 4,
 "nbformat_minor": 5
}
