{
 "cells": [
  {
   "cell_type": "markdown",
   "id": "c3c919ad",
   "metadata": {},
   "source": [
    "分类的目标是将输入变量$x$分到$K$个离散的类别$C_k$中的某一类，输入空间被划分为不同的决策区域，他们的边界被称为决策边界或决策面。所谓分类线性模型是指决策面是输入向量$x$的线性函数。如果数据集"
   ]
  }
 ],
 "metadata": {
  "kernelspec": {
   "display_name": "xueqianbanenv",
   "language": "python",
   "name": "python3"
  },
  "language_info": {
   "name": "python",
   "version": "3.13.2"
  }
 },
 "nbformat": 4,
 "nbformat_minor": 5
}
