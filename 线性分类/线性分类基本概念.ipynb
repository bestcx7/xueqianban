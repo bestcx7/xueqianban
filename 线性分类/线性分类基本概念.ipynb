{
 "cells": [
  {
   "cell_type": "markdown",
   "id": "c3c919ad",
   "metadata": {},
   "source": [
    "分类的目标是将输入变量$x$分到$K$个离散的类别$C_k$中的某一类，输入空间被划分为不同的决策区域，他们的边界被称为决策边界或决策面。所谓分类线性模型是指决策面是输入向量$x$的线性函数。如果数据集可以被线性决策面精确地分类，那我们说这个数据集是线性可分的，在二分类的情况下，最方便的表达式是二元表示方法，目标变量$t \\in \\{0, 1\\}$，对于$K > 2$类的问题，我们方便的是使用“1-of-K”编码规则。例如我们有5个类别，那么来自第2个类别的模式所给出的目标向量为$t = (0, 1, 0, 0, 0)^T$。在线性分类模型中，我们使用非线性函数$f(\\cdot )$对$w$的线性函数进行变换，即$$y(x)=f(w^Tx+w_0)$$"
   ]
  },
  {
   "cell_type": "markdown",
   "id": "1f63833d",
   "metadata": {},
   "source": [
    "### 判别函数\n",
    "#### 二分类\n",
    "判别函数的最简单的形式是输入向量的线性函数 \n",
    "$$y(x) = w^Tx + w_0$$\n",
    "对于一个输入向量$x$，如果$y(x)≥0$，那么它被分到$\\mathcal{C_1} $中，否则被分到$\\mathcal{C_2} $中，类似的，如果$x$是决策面内的一个点，那么$y(x)=0$，因此从原点到决策面的垂直距离为\n",
    "$$\\frac{w^Tx}{\\left \\| w \\right \\| } = - \\frac{w_0}{\\left \\| x \\right \\| } $$ \n",
    "因此我们可以看出参数$w_0$决定了决策面的位置"
   ]
  },
  {
   "cell_type": "markdown",
   "id": "3c4b7269",
   "metadata": {},
   "source": [
    "![点到决策面垂直距离](./pic/点到超平面的距离.png)"
   ]
  },
  {
   "cell_type": "markdown",
   "id": "3f4d30f7",
   "metadata": {},
   "source": [
    "#### 补充：关于点到决策面垂直距离的证明\n",
    "设$v_1$为$v_0$在$S$上的投影,$v_2$为$S$上的任意一点，向量$\\overrightarrow{v_0v_1}$与$\\overrightarrow{v_0v_2}$的夹角为$\\theta$，则有\n",
    "$$d=\\left \\| \\overrightarrow{v_0v_1} \\right \\| = \\left \\| \\overrightarrow{v_0v_2}  \\right \\|\\cos \\theta $$ \n",
    "根据向量的夹角公式\n",
    "$$\\cos \\theta  = \\frac{\\overrightarrow{v_0v_1}\\cdot \\overrightarrow{v_0v_2}}{\\left \\| \\overrightarrow{v_0v_1} \\right \\| \\cdot \\left \\| \\overrightarrow{v_0v_2} \\right \\| } $$ \n",
    "带入上式可得\n",
    "$$d = \\left \\| \\overrightarrow{v_0v_2}  \\right \\|\\cos \\theta = \\frac{\\overrightarrow{v_0v_1}\\cdot \\overrightarrow{v_0v_2}}{\\left \\| \\overrightarrow{v_0v_1} \\right \\|  }$$\n",
    "由于$v_1$和$v_2$是$S$上的点，因而有：\n",
    "$$\\left.\\begin{matrix}w \\cdot  v_1 + b = 0  \\\\w \\cdot  v_2 + b = 0 \\end{matrix}\\right\\}\\Rightarrow w \\cdot  (v_1 - v_2) = 0\\Rightarrow w \\cdot   \\overrightarrow{v_2v_1} = 0$$\n",
    "又由于$\\overrightarrow{v_2v_1}$与$\\overrightarrow{v_0v_1}$垂直，因而有：\n",
    "$$\\overrightarrow{v_0v_1}\\cdot \\overrightarrow{v_2v_1}=0$$\n",
    "由于$\\overrightarrow{v_2v_1} \\ne 0$因而有$\\overrightarrow{v_0v_1} = k \\cdot w$，所以\n",
    "$$d = \\frac{\\left | k \\right | \\cdot \\left | w\\cdot \\overrightarrow{v_0v_2} \\right |  }{\\left | k \\right |\\cdot \\left \\| w \\right \\|  } \n",
    "=\\frac{\\left | w \\cdot (v_2 - v_0) \\right | }{\\left \\| w \\right \\| }  = \\frac{\\left | -b-w\\cdot v_0 \\right | }{\\left \\| w \\right \\|} \n",
    "=\\frac{\\left | b + w\\cdot v_0 \\right | }{\\left \\| w \\right \\|} $$\n",
    "\n"
   ]
  }
 ],
 "metadata": {
  "kernelspec": {
   "display_name": "xueqianbanenv",
   "language": "python",
   "name": "python3"
  },
  "language_info": {
   "name": "python",
   "version": "3.13.2"
  }
 },
 "nbformat": 4,
 "nbformat_minor": 5
}
